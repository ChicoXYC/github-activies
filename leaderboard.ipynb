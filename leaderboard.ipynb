{
 "cells": [
  {
   "cell_type": "markdown",
   "metadata": {},
   "source": [
    "# Leader board\n",
    "\n",
    "The leader board of student activities of COMM7780/ JOUR7280"
   ]
  },
  {
   "cell_type": "code",
   "execution_count": 21,
   "metadata": {},
   "outputs": [],
   "source": [
    "import pandas as pd\n",
    "import matplotlib\n",
    "\n",
    "%matplotlib inline"
   ]
  },
  {
   "cell_type": "code",
   "execution_count": 22,
   "metadata": {},
   "outputs": [],
   "source": [
    "#!pip install matplotlib"
   ]
  },
  {
   "cell_type": "markdown",
   "metadata": {},
   "source": [
    "## Basic checkup"
   ]
  },
  {
   "cell_type": "code",
   "execution_count": 23,
   "metadata": {},
   "outputs": [],
   "source": [
    "df = pd.read_csv('activities.csv')"
   ]
  },
  {
   "cell_type": "code",
   "execution_count": 24,
   "metadata": {},
   "outputs": [
    {
     "data": {
      "text/plain": [
       "4830"
      ]
     },
     "execution_count": 24,
     "metadata": {},
     "output_type": "execute_result"
    }
   ],
   "source": [
    "len(df)"
   ]
  },
  {
   "cell_type": "code",
   "execution_count": 25,
   "metadata": {},
   "outputs": [
    {
     "data": {
      "text/plain": [
       "Index(['data-count', 'data-date', 'url'], dtype='object')"
      ]
     },
     "execution_count": 25,
     "metadata": {},
     "output_type": "execute_result"
    }
   ],
   "source": [
    "df.columns"
   ]
  },
  {
   "cell_type": "code",
   "execution_count": 26,
   "metadata": {},
   "outputs": [
    {
     "data": {
      "text/html": [
       "<div>\n",
       "<style scoped>\n",
       "    .dataframe tbody tr th:only-of-type {\n",
       "        vertical-align: middle;\n",
       "    }\n",
       "\n",
       "    .dataframe tbody tr th {\n",
       "        vertical-align: top;\n",
       "    }\n",
       "\n",
       "    .dataframe thead th {\n",
       "        text-align: right;\n",
       "    }\n",
       "</style>\n",
       "<table border=\"1\" class=\"dataframe\">\n",
       "  <thead>\n",
       "    <tr style=\"text-align: right;\">\n",
       "      <th></th>\n",
       "      <th>data-count</th>\n",
       "      <th>data-date</th>\n",
       "      <th>url</th>\n",
       "    </tr>\n",
       "  </thead>\n",
       "  <tbody>\n",
       "    <tr>\n",
       "      <th>0</th>\n",
       "      <td>0</td>\n",
       "      <td>2018-08-01</td>\n",
       "      <td>https://github.com/PepperCai</td>\n",
       "    </tr>\n",
       "    <tr>\n",
       "      <th>1</th>\n",
       "      <td>0</td>\n",
       "      <td>2018-08-02</td>\n",
       "      <td>https://github.com/PepperCai</td>\n",
       "    </tr>\n",
       "    <tr>\n",
       "      <th>2</th>\n",
       "      <td>0</td>\n",
       "      <td>2018-08-03</td>\n",
       "      <td>https://github.com/PepperCai</td>\n",
       "    </tr>\n",
       "    <tr>\n",
       "      <th>3</th>\n",
       "      <td>0</td>\n",
       "      <td>2018-08-04</td>\n",
       "      <td>https://github.com/PepperCai</td>\n",
       "    </tr>\n",
       "    <tr>\n",
       "      <th>4</th>\n",
       "      <td>0</td>\n",
       "      <td>2018-08-05</td>\n",
       "      <td>https://github.com/PepperCai</td>\n",
       "    </tr>\n",
       "  </tbody>\n",
       "</table>\n",
       "</div>"
      ],
      "text/plain": [
       "   data-count   data-date                           url\n",
       "0           0  2018-08-01  https://github.com/PepperCai\n",
       "1           0  2018-08-02  https://github.com/PepperCai\n",
       "2           0  2018-08-03  https://github.com/PepperCai\n",
       "3           0  2018-08-04  https://github.com/PepperCai\n",
       "4           0  2018-08-05  https://github.com/PepperCai"
      ]
     },
     "execution_count": 26,
     "metadata": {},
     "output_type": "execute_result"
    }
   ],
   "source": [
    "df.head()"
   ]
  },
  {
   "cell_type": "code",
   "execution_count": 27,
   "metadata": {},
   "outputs": [
    {
     "data": {
      "text/html": [
       "<div>\n",
       "<style scoped>\n",
       "    .dataframe tbody tr th:only-of-type {\n",
       "        vertical-align: middle;\n",
       "    }\n",
       "\n",
       "    .dataframe tbody tr th {\n",
       "        vertical-align: top;\n",
       "    }\n",
       "\n",
       "    .dataframe thead th {\n",
       "        text-align: right;\n",
       "    }\n",
       "</style>\n",
       "<table border=\"1\" class=\"dataframe\">\n",
       "  <thead>\n",
       "    <tr style=\"text-align: right;\">\n",
       "      <th></th>\n",
       "      <th>data-count</th>\n",
       "      <th>data-date</th>\n",
       "      <th>url</th>\n",
       "    </tr>\n",
       "  </thead>\n",
       "  <tbody>\n",
       "    <tr>\n",
       "      <th>4825</th>\n",
       "      <td>0</td>\n",
       "      <td>2018-11-19</td>\n",
       "      <td>https://github.com/NicoleZZC</td>\n",
       "    </tr>\n",
       "    <tr>\n",
       "      <th>4826</th>\n",
       "      <td>3</td>\n",
       "      <td>2018-11-20</td>\n",
       "      <td>https://github.com/NicoleZZC</td>\n",
       "    </tr>\n",
       "    <tr>\n",
       "      <th>4827</th>\n",
       "      <td>0</td>\n",
       "      <td>2018-11-21</td>\n",
       "      <td>https://github.com/NicoleZZC</td>\n",
       "    </tr>\n",
       "    <tr>\n",
       "      <th>4828</th>\n",
       "      <td>0</td>\n",
       "      <td>2018-11-22</td>\n",
       "      <td>https://github.com/NicoleZZC</td>\n",
       "    </tr>\n",
       "    <tr>\n",
       "      <th>4829</th>\n",
       "      <td>0</td>\n",
       "      <td>2018-11-23</td>\n",
       "      <td>https://github.com/NicoleZZC</td>\n",
       "    </tr>\n",
       "  </tbody>\n",
       "</table>\n",
       "</div>"
      ],
      "text/plain": [
       "      data-count   data-date                           url\n",
       "4825           0  2018-11-19  https://github.com/NicoleZZC\n",
       "4826           3  2018-11-20  https://github.com/NicoleZZC\n",
       "4827           0  2018-11-21  https://github.com/NicoleZZC\n",
       "4828           0  2018-11-22  https://github.com/NicoleZZC\n",
       "4829           0  2018-11-23  https://github.com/NicoleZZC"
      ]
     },
     "execution_count": 27,
     "metadata": {},
     "output_type": "execute_result"
    }
   ],
   "source": [
    "df.tail()"
   ]
  },
  {
   "cell_type": "code",
   "execution_count": 28,
   "metadata": {},
   "outputs": [
    {
     "data": {
      "text/plain": [
       "dtype('int64')"
      ]
     },
     "execution_count": 28,
     "metadata": {},
     "output_type": "execute_result"
    }
   ],
   "source": [
    "df['data-count'].dtype"
   ]
  },
  {
   "cell_type": "code",
   "execution_count": 29,
   "metadata": {},
   "outputs": [
    {
     "data": {
      "text/plain": [
       "dtype('O')"
      ]
     },
     "execution_count": 29,
     "metadata": {},
     "output_type": "execute_result"
    }
   ],
   "source": [
    "df['data-date'].dtype"
   ]
  },
  {
   "cell_type": "code",
   "execution_count": 30,
   "metadata": {},
   "outputs": [
    {
     "data": {
      "text/plain": [
       "dtype('O')"
      ]
     },
     "execution_count": 30,
     "metadata": {},
     "output_type": "execute_result"
    }
   ],
   "source": [
    "df['url'].dtype"
   ]
  },
  {
   "cell_type": "markdown",
   "metadata": {},
   "source": [
    "## Time Series"
   ]
  },
  {
   "cell_type": "code",
   "execution_count": 31,
   "metadata": {},
   "outputs": [],
   "source": [
    "from dateutil.parser import parse"
   ]
  },
  {
   "cell_type": "code",
   "execution_count": 32,
   "metadata": {},
   "outputs": [
    {
     "data": {
      "text/plain": [
       "<function dateutil.parser._parser.parse(timestr, parserinfo=None, **kwargs)>"
      ]
     },
     "execution_count": 32,
     "metadata": {},
     "output_type": "execute_result"
    }
   ],
   "source": [
    "parse"
   ]
  },
  {
   "cell_type": "code",
   "execution_count": 33,
   "metadata": {},
   "outputs": [
    {
     "data": {
      "text/plain": [
       "str"
      ]
     },
     "execution_count": 33,
     "metadata": {},
     "output_type": "execute_result"
    }
   ],
   "source": [
    "type(df['data-date'][0])"
   ]
  },
  {
   "cell_type": "code",
   "execution_count": 34,
   "metadata": {},
   "outputs": [
    {
     "data": {
      "text/plain": [
       "datetime.datetime(2018, 8, 1, 0, 0)"
      ]
     },
     "execution_count": 34,
     "metadata": {},
     "output_type": "execute_result"
    }
   ],
   "source": [
    "parse(df['data-date'][0])"
   ]
  },
  {
   "cell_type": "code",
   "execution_count": 35,
   "metadata": {},
   "outputs": [],
   "source": [
    "df['datetime'] = df['data-date'].apply(parse)"
   ]
  },
  {
   "cell_type": "code",
   "execution_count": 36,
   "metadata": {},
   "outputs": [
    {
     "data": {
      "text/plain": [
       "str"
      ]
     },
     "execution_count": 36,
     "metadata": {},
     "output_type": "execute_result"
    }
   ],
   "source": [
    "type(df['data-date'][0])"
   ]
  },
  {
   "cell_type": "code",
   "execution_count": 37,
   "metadata": {},
   "outputs": [
    {
     "data": {
      "text/plain": [
       "pandas._libs.tslibs.timestamps.Timestamp"
      ]
     },
     "execution_count": 37,
     "metadata": {},
     "output_type": "execute_result"
    }
   ],
   "source": [
    "type(df['datetime'][0])"
   ]
  },
  {
   "cell_type": "code",
   "execution_count": 39,
   "metadata": {},
   "outputs": [],
   "source": [
    "# Refer to week08\n",
    "# .groupby().aggregate()"
   ]
  },
  {
   "cell_type": "code",
   "execution_count": 40,
   "metadata": {},
   "outputs": [
    {
     "data": {
      "text/plain": [
       "<matplotlib.axes._subplots.AxesSubplot at 0x11d982828>"
      ]
     },
     "execution_count": 40,
     "metadata": {},
     "output_type": "execute_result"
    },
    {
     "data": {
      "image/png": "[encoded data removed]",
      "text/plain": [
       "<Figure size 432x288 with 1 Axes>"
      ]
     },
     "metadata": {
      "needs_background": "light"
     },
     "output_type": "display_data"
    }
   ],
   "source": [
    "df.set_index('datetime').resample('1w').aggregate('sum').plot()"
   ]
  },
  {
   "cell_type": "code",
   "execution_count": 58,
   "metadata": {},
   "outputs": [
    {
     "data": {
      "text/html": [
       "<div>\n",
       "<style scoped>\n",
       "    .dataframe tbody tr th:only-of-type {\n",
       "        vertical-align: middle;\n",
       "    }\n",
       "\n",
       "    .dataframe tbody tr th {\n",
       "        vertical-align: top;\n",
       "    }\n",
       "\n",
       "    .dataframe thead th {\n",
       "        text-align: right;\n",
       "    }\n",
       "</style>\n",
       "<table border=\"1\" class=\"dataframe\">\n",
       "  <thead>\n",
       "    <tr style=\"text-align: right;\">\n",
       "      <th></th>\n",
       "      <th>data-count</th>\n",
       "      <th>data-date</th>\n",
       "      <th>url</th>\n",
       "      <th>datetime</th>\n",
       "    </tr>\n",
       "  </thead>\n",
       "  <tbody>\n",
       "    <tr>\n",
       "      <th>0</th>\n",
       "      <td>0</td>\n",
       "      <td>2018-08-01</td>\n",
       "      <td>https://github.com/PepperCai</td>\n",
       "      <td>2018-08-01</td>\n",
       "    </tr>\n",
       "    <tr>\n",
       "      <th>1</th>\n",
       "      <td>0</td>\n",
       "      <td>2018-08-02</td>\n",
       "      <td>https://github.com/PepperCai</td>\n",
       "      <td>2018-08-02</td>\n",
       "    </tr>\n",
       "    <tr>\n",
       "      <th>2</th>\n",
       "      <td>0</td>\n",
       "      <td>2018-08-03</td>\n",
       "      <td>https://github.com/PepperCai</td>\n",
       "      <td>2018-08-03</td>\n",
       "    </tr>\n",
       "    <tr>\n",
       "      <th>3</th>\n",
       "      <td>0</td>\n",
       "      <td>2018-08-04</td>\n",
       "      <td>https://github.com/PepperCai</td>\n",
       "      <td>2018-08-04</td>\n",
       "    </tr>\n",
       "    <tr>\n",
       "      <th>4</th>\n",
       "      <td>0</td>\n",
       "      <td>2018-08-05</td>\n",
       "      <td>https://github.com/PepperCai</td>\n",
       "      <td>2018-08-05</td>\n",
       "    </tr>\n",
       "    <tr>\n",
       "      <th>5</th>\n",
       "      <td>0</td>\n",
       "      <td>2018-08-06</td>\n",
       "      <td>https://github.com/PepperCai</td>\n",
       "      <td>2018-08-06</td>\n",
       "    </tr>\n",
       "    <tr>\n",
       "      <th>6</th>\n",
       "      <td>0</td>\n",
       "      <td>2018-08-07</td>\n",
       "      <td>https://github.com/PepperCai</td>\n",
       "      <td>2018-08-07</td>\n",
       "    </tr>\n",
       "    <tr>\n",
       "      <th>7</th>\n",
       "      <td>0</td>\n",
       "      <td>2018-08-08</td>\n",
       "      <td>https://github.com/PepperCai</td>\n",
       "      <td>2018-08-08</td>\n",
       "    </tr>\n",
       "    <tr>\n",
       "      <th>8</th>\n",
       "      <td>0</td>\n",
       "      <td>2018-08-09</td>\n",
       "      <td>https://github.com/PepperCai</td>\n",
       "      <td>2018-08-09</td>\n",
       "    </tr>\n",
       "    <tr>\n",
       "      <th>9</th>\n",
       "      <td>0</td>\n",
       "      <td>2018-08-10</td>\n",
       "      <td>https://github.com/PepperCai</td>\n",
       "      <td>2018-08-10</td>\n",
       "    </tr>\n",
       "    <tr>\n",
       "      <th>10</th>\n",
       "      <td>0</td>\n",
       "      <td>2018-08-11</td>\n",
       "      <td>https://github.com/PepperCai</td>\n",
       "      <td>2018-08-11</td>\n",
       "    </tr>\n",
       "    <tr>\n",
       "      <th>11</th>\n",
       "      <td>0</td>\n",
       "      <td>2018-08-12</td>\n",
       "      <td>https://github.com/PepperCai</td>\n",
       "      <td>2018-08-12</td>\n",
       "    </tr>\n",
       "    <tr>\n",
       "      <th>12</th>\n",
       "      <td>0</td>\n",
       "      <td>2018-08-13</td>\n",
       "      <td>https://github.com/PepperCai</td>\n",
       "      <td>2018-08-13</td>\n",
       "    </tr>\n",
       "    <tr>\n",
       "      <th>13</th>\n",
       "      <td>0</td>\n",
       "      <td>2018-08-14</td>\n",
       "      <td>https://github.com/PepperCai</td>\n",
       "      <td>2018-08-14</td>\n",
       "    </tr>\n",
       "    <tr>\n",
       "      <th>14</th>\n",
       "      <td>0</td>\n",
       "      <td>2018-08-15</td>\n",
       "      <td>https://github.com/PepperCai</td>\n",
       "      <td>2018-08-15</td>\n",
       "    </tr>\n",
       "    <tr>\n",
       "      <th>15</th>\n",
       "      <td>0</td>\n",
       "      <td>2018-08-16</td>\n",
       "      <td>https://github.com/PepperCai</td>\n",
       "      <td>2018-08-16</td>\n",
       "    </tr>\n",
       "    <tr>\n",
       "      <th>16</th>\n",
       "      <td>0</td>\n",
       "      <td>2018-08-17</td>\n",
       "      <td>https://github.com/PepperCai</td>\n",
       "      <td>2018-08-17</td>\n",
       "    </tr>\n",
       "    <tr>\n",
       "      <th>17</th>\n",
       "      <td>0</td>\n",
       "      <td>2018-08-18</td>\n",
       "      <td>https://github.com/PepperCai</td>\n",
       "      <td>2018-08-18</td>\n",
       "    </tr>\n",
       "    <tr>\n",
       "      <th>18</th>\n",
       "      <td>0</td>\n",
       "      <td>2018-08-19</td>\n",
       "      <td>https://github.com/PepperCai</td>\n",
       "      <td>2018-08-19</td>\n",
       "    </tr>\n",
       "    <tr>\n",
       "      <th>19</th>\n",
       "      <td>0</td>\n",
       "      <td>2018-08-20</td>\n",
       "      <td>https://github.com/PepperCai</td>\n",
       "      <td>2018-08-20</td>\n",
       "    </tr>\n",
       "    <tr>\n",
       "      <th>20</th>\n",
       "      <td>0</td>\n",
       "      <td>2018-08-21</td>\n",
       "      <td>https://github.com/PepperCai</td>\n",
       "      <td>2018-08-21</td>\n",
       "    </tr>\n",
       "    <tr>\n",
       "      <th>21</th>\n",
       "      <td>0</td>\n",
       "      <td>2018-08-22</td>\n",
       "      <td>https://github.com/PepperCai</td>\n",
       "      <td>2018-08-22</td>\n",
       "    </tr>\n",
       "    <tr>\n",
       "      <th>22</th>\n",
       "      <td>0</td>\n",
       "      <td>2018-08-23</td>\n",
       "      <td>https://github.com/PepperCai</td>\n",
       "      <td>2018-08-23</td>\n",
       "    </tr>\n",
       "    <tr>\n",
       "      <th>23</th>\n",
       "      <td>0</td>\n",
       "      <td>2018-08-24</td>\n",
       "      <td>https://github.com/PepperCai</td>\n",
       "      <td>2018-08-24</td>\n",
       "    </tr>\n",
       "    <tr>\n",
       "      <th>24</th>\n",
       "      <td>0</td>\n",
       "      <td>2018-08-25</td>\n",
       "      <td>https://github.com/PepperCai</td>\n",
       "      <td>2018-08-25</td>\n",
       "    </tr>\n",
       "    <tr>\n",
       "      <th>25</th>\n",
       "      <td>0</td>\n",
       "      <td>2018-08-26</td>\n",
       "      <td>https://github.com/PepperCai</td>\n",
       "      <td>2018-08-26</td>\n",
       "    </tr>\n",
       "    <tr>\n",
       "      <th>26</th>\n",
       "      <td>0</td>\n",
       "      <td>2018-08-27</td>\n",
       "      <td>https://github.com/PepperCai</td>\n",
       "      <td>2018-08-27</td>\n",
       "    </tr>\n",
       "    <tr>\n",
       "      <th>27</th>\n",
       "      <td>1</td>\n",
       "      <td>2018-08-28</td>\n",
       "      <td>https://github.com/PepperCai</td>\n",
       "      <td>2018-08-28</td>\n",
       "    </tr>\n",
       "    <tr>\n",
       "      <th>28</th>\n",
       "      <td>0</td>\n",
       "      <td>2018-08-29</td>\n",
       "      <td>https://github.com/PepperCai</td>\n",
       "      <td>2018-08-29</td>\n",
       "    </tr>\n",
       "    <tr>\n",
       "      <th>29</th>\n",
       "      <td>5</td>\n",
       "      <td>2018-08-30</td>\n",
       "      <td>https://github.com/PepperCai</td>\n",
       "      <td>2018-08-30</td>\n",
       "    </tr>\n",
       "    <tr>\n",
       "      <th>...</th>\n",
       "      <td>...</td>\n",
       "      <td>...</td>\n",
       "      <td>...</td>\n",
       "      <td>...</td>\n",
       "    </tr>\n",
       "    <tr>\n",
       "      <th>4800</th>\n",
       "      <td>0</td>\n",
       "      <td>2018-10-25</td>\n",
       "      <td>https://github.com/NicoleZZC</td>\n",
       "      <td>2018-10-25</td>\n",
       "    </tr>\n",
       "    <tr>\n",
       "      <th>4801</th>\n",
       "      <td>0</td>\n",
       "      <td>2018-10-26</td>\n",
       "      <td>https://github.com/NicoleZZC</td>\n",
       "      <td>2018-10-26</td>\n",
       "    </tr>\n",
       "    <tr>\n",
       "      <th>4802</th>\n",
       "      <td>0</td>\n",
       "      <td>2018-10-27</td>\n",
       "      <td>https://github.com/NicoleZZC</td>\n",
       "      <td>2018-10-27</td>\n",
       "    </tr>\n",
       "    <tr>\n",
       "      <th>4803</th>\n",
       "      <td>0</td>\n",
       "      <td>2018-10-28</td>\n",
       "      <td>https://github.com/NicoleZZC</td>\n",
       "      <td>2018-10-28</td>\n",
       "    </tr>\n",
       "    <tr>\n",
       "      <th>4804</th>\n",
       "      <td>0</td>\n",
       "      <td>2018-10-29</td>\n",
       "      <td>https://github.com/NicoleZZC</td>\n",
       "      <td>2018-10-29</td>\n",
       "    </tr>\n",
       "    <tr>\n",
       "      <th>4805</th>\n",
       "      <td>0</td>\n",
       "      <td>2018-10-30</td>\n",
       "      <td>https://github.com/NicoleZZC</td>\n",
       "      <td>2018-10-30</td>\n",
       "    </tr>\n",
       "    <tr>\n",
       "      <th>4806</th>\n",
       "      <td>0</td>\n",
       "      <td>2018-10-31</td>\n",
       "      <td>https://github.com/NicoleZZC</td>\n",
       "      <td>2018-10-31</td>\n",
       "    </tr>\n",
       "    <tr>\n",
       "      <th>4807</th>\n",
       "      <td>0</td>\n",
       "      <td>2018-11-01</td>\n",
       "      <td>https://github.com/NicoleZZC</td>\n",
       "      <td>2018-11-01</td>\n",
       "    </tr>\n",
       "    <tr>\n",
       "      <th>4808</th>\n",
       "      <td>0</td>\n",
       "      <td>2018-11-02</td>\n",
       "      <td>https://github.com/NicoleZZC</td>\n",
       "      <td>2018-11-02</td>\n",
       "    </tr>\n",
       "    <tr>\n",
       "      <th>4809</th>\n",
       "      <td>0</td>\n",
       "      <td>2018-11-03</td>\n",
       "      <td>https://github.com/NicoleZZC</td>\n",
       "      <td>2018-11-03</td>\n",
       "    </tr>\n",
       "    <tr>\n",
       "      <th>4810</th>\n",
       "      <td>1</td>\n",
       "      <td>2018-11-04</td>\n",
       "      <td>https://github.com/NicoleZZC</td>\n",
       "      <td>2018-11-04</td>\n",
       "    </tr>\n",
       "    <tr>\n",
       "      <th>4811</th>\n",
       "      <td>0</td>\n",
       "      <td>2018-11-05</td>\n",
       "      <td>https://github.com/NicoleZZC</td>\n",
       "      <td>2018-11-05</td>\n",
       "    </tr>\n",
       "    <tr>\n",
       "      <th>4812</th>\n",
       "      <td>3</td>\n",
       "      <td>2018-11-06</td>\n",
       "      <td>https://github.com/NicoleZZC</td>\n",
       "      <td>2018-11-06</td>\n",
       "    </tr>\n",
       "    <tr>\n",
       "      <th>4813</th>\n",
       "      <td>0</td>\n",
       "      <td>2018-11-07</td>\n",
       "      <td>https://github.com/NicoleZZC</td>\n",
       "      <td>2018-11-07</td>\n",
       "    </tr>\n",
       "    <tr>\n",
       "      <th>4814</th>\n",
       "      <td>0</td>\n",
       "      <td>2018-11-08</td>\n",
       "      <td>https://github.com/NicoleZZC</td>\n",
       "      <td>2018-11-08</td>\n",
       "    </tr>\n",
       "    <tr>\n",
       "      <th>4815</th>\n",
       "      <td>0</td>\n",
       "      <td>2018-11-09</td>\n",
       "      <td>https://github.com/NicoleZZC</td>\n",
       "      <td>2018-11-09</td>\n",
       "    </tr>\n",
       "    <tr>\n",
       "      <th>4816</th>\n",
       "      <td>0</td>\n",
       "      <td>2018-11-10</td>\n",
       "      <td>https://github.com/NicoleZZC</td>\n",
       "      <td>2018-11-10</td>\n",
       "    </tr>\n",
       "    <tr>\n",
       "      <th>4817</th>\n",
       "      <td>0</td>\n",
       "      <td>2018-11-11</td>\n",
       "      <td>https://github.com/NicoleZZC</td>\n",
       "      <td>2018-11-11</td>\n",
       "    </tr>\n",
       "    <tr>\n",
       "      <th>4818</th>\n",
       "      <td>0</td>\n",
       "      <td>2018-11-12</td>\n",
       "      <td>https://github.com/NicoleZZC</td>\n",
       "      <td>2018-11-12</td>\n",
       "    </tr>\n",
       "    <tr>\n",
       "      <th>4819</th>\n",
       "      <td>0</td>\n",
       "      <td>2018-11-13</td>\n",
       "      <td>https://github.com/NicoleZZC</td>\n",
       "      <td>2018-11-13</td>\n",
       "    </tr>\n",
       "    <tr>\n",
       "      <th>4820</th>\n",
       "      <td>0</td>\n",
       "      <td>2018-11-14</td>\n",
       "      <td>https://github.com/NicoleZZC</td>\n",
       "      <td>2018-11-14</td>\n",
       "    </tr>\n",
       "    <tr>\n",
       "      <th>4821</th>\n",
       "      <td>1</td>\n",
       "      <td>2018-11-15</td>\n",
       "      <td>https://github.com/NicoleZZC</td>\n",
       "      <td>2018-11-15</td>\n",
       "    </tr>\n",
       "    <tr>\n",
       "      <th>4822</th>\n",
       "      <td>0</td>\n",
       "      <td>2018-11-16</td>\n",
       "      <td>https://github.com/NicoleZZC</td>\n",
       "      <td>2018-11-16</td>\n",
       "    </tr>\n",
       "    <tr>\n",
       "      <th>4823</th>\n",
       "      <td>0</td>\n",
       "      <td>2018-11-17</td>\n",
       "      <td>https://github.com/NicoleZZC</td>\n",
       "      <td>2018-11-17</td>\n",
       "    </tr>\n",
       "    <tr>\n",
       "      <th>4824</th>\n",
       "      <td>0</td>\n",
       "      <td>2018-11-18</td>\n",
       "      <td>https://github.com/NicoleZZC</td>\n",
       "      <td>2018-11-18</td>\n",
       "    </tr>\n",
       "    <tr>\n",
       "      <th>4825</th>\n",
       "      <td>0</td>\n",
       "      <td>2018-11-19</td>\n",
       "      <td>https://github.com/NicoleZZC</td>\n",
       "      <td>2018-11-19</td>\n",
       "    </tr>\n",
       "    <tr>\n",
       "      <th>4826</th>\n",
       "      <td>3</td>\n",
       "      <td>2018-11-20</td>\n",
       "      <td>https://github.com/NicoleZZC</td>\n",
       "      <td>2018-11-20</td>\n",
       "    </tr>\n",
       "    <tr>\n",
       "      <th>4827</th>\n",
       "      <td>0</td>\n",
       "      <td>2018-11-21</td>\n",
       "      <td>https://github.com/NicoleZZC</td>\n",
       "      <td>2018-11-21</td>\n",
       "    </tr>\n",
       "    <tr>\n",
       "      <th>4828</th>\n",
       "      <td>0</td>\n",
       "      <td>2018-11-22</td>\n",
       "      <td>https://github.com/NicoleZZC</td>\n",
       "      <td>2018-11-22</td>\n",
       "    </tr>\n",
       "    <tr>\n",
       "      <th>4829</th>\n",
       "      <td>0</td>\n",
       "      <td>2018-11-23</td>\n",
       "      <td>https://github.com/NicoleZZC</td>\n",
       "      <td>2018-11-23</td>\n",
       "    </tr>\n",
       "  </tbody>\n",
       "</table>\n",
       "<p>4830 rows × 4 columns</p>\n",
       "</div>"
      ],
      "text/plain": [
       "      data-count   data-date                           url   datetime\n",
       "0              0  2018-08-01  https://github.com/PepperCai 2018-08-01\n",
       "1              0  2018-08-02  https://github.com/PepperCai 2018-08-02\n",
       "2              0  2018-08-03  https://github.com/PepperCai 2018-08-03\n",
       "3              0  2018-08-04  https://github.com/PepperCai 2018-08-04\n",
       "4              0  2018-08-05  https://github.com/PepperCai 2018-08-05\n",
       "5              0  2018-08-06  https://github.com/PepperCai 2018-08-06\n",
       "6              0  2018-08-07  https://github.com/PepperCai 2018-08-07\n",
       "7              0  2018-08-08  https://github.com/PepperCai 2018-08-08\n",
       "8              0  2018-08-09  https://github.com/PepperCai 2018-08-09\n",
       "9              0  2018-08-10  https://github.com/PepperCai 2018-08-10\n",
       "10             0  2018-08-11  https://github.com/PepperCai 2018-08-11\n",
       "11             0  2018-08-12  https://github.com/PepperCai 2018-08-12\n",
       "12             0  2018-08-13  https://github.com/PepperCai 2018-08-13\n",
       "13             0  2018-08-14  https://github.com/PepperCai 2018-08-14\n",
       "14             0  2018-08-15  https://github.com/PepperCai 2018-08-15\n",
       "15             0  2018-08-16  https://github.com/PepperCai 2018-08-16\n",
       "16             0  2018-08-17  https://github.com/PepperCai 2018-08-17\n",
       "17             0  2018-08-18  https://github.com/PepperCai 2018-08-18\n",
       "18             0  2018-08-19  https://github.com/PepperCai 2018-08-19\n",
       "19             0  2018-08-20  https://github.com/PepperCai 2018-08-20\n",
       "20             0  2018-08-21  https://github.com/PepperCai 2018-08-21\n",
       "21             0  2018-08-22  https://github.com/PepperCai 2018-08-22\n",
       "22             0  2018-08-23  https://github.com/PepperCai 2018-08-23\n",
       "23             0  2018-08-24  https://github.com/PepperCai 2018-08-24\n",
       "24             0  2018-08-25  https://github.com/PepperCai 2018-08-25\n",
       "25             0  2018-08-26  https://github.com/PepperCai 2018-08-26\n",
       "26             0  2018-08-27  https://github.com/PepperCai 2018-08-27\n",
       "27             1  2018-08-28  https://github.com/PepperCai 2018-08-28\n",
       "28             0  2018-08-29  https://github.com/PepperCai 2018-08-29\n",
       "29             5  2018-08-30  https://github.com/PepperCai 2018-08-30\n",
       "...          ...         ...                           ...        ...\n",
       "4800           0  2018-10-25  https://github.com/NicoleZZC 2018-10-25\n",
       "4801           0  2018-10-26  https://github.com/NicoleZZC 2018-10-26\n",
       "4802           0  2018-10-27  https://github.com/NicoleZZC 2018-10-27\n",
       "4803           0  2018-10-28  https://github.com/NicoleZZC 2018-10-28\n",
       "4804           0  2018-10-29  https://github.com/NicoleZZC 2018-10-29\n",
       "4805           0  2018-10-30  https://github.com/NicoleZZC 2018-10-30\n",
       "4806           0  2018-10-31  https://github.com/NicoleZZC 2018-10-31\n",
       "4807           0  2018-11-01  https://github.com/NicoleZZC 2018-11-01\n",
       "4808           0  2018-11-02  https://github.com/NicoleZZC 2018-11-02\n",
       "4809           0  2018-11-03  https://github.com/NicoleZZC 2018-11-03\n",
       "4810           1  2018-11-04  https://github.com/NicoleZZC 2018-11-04\n",
       "4811           0  2018-11-05  https://github.com/NicoleZZC 2018-11-05\n",
       "4812           3  2018-11-06  https://github.com/NicoleZZC 2018-11-06\n",
       "4813           0  2018-11-07  https://github.com/NicoleZZC 2018-11-07\n",
       "4814           0  2018-11-08  https://github.com/NicoleZZC 2018-11-08\n",
       "4815           0  2018-11-09  https://github.com/NicoleZZC 2018-11-09\n",
       "4816           0  2018-11-10  https://github.com/NicoleZZC 2018-11-10\n",
       "4817           0  2018-11-11  https://github.com/NicoleZZC 2018-11-11\n",
       "4818           0  2018-11-12  https://github.com/NicoleZZC 2018-11-12\n",
       "4819           0  2018-11-13  https://github.com/NicoleZZC 2018-11-13\n",
       "4820           0  2018-11-14  https://github.com/NicoleZZC 2018-11-14\n",
       "4821           1  2018-11-15  https://github.com/NicoleZZC 2018-11-15\n",
       "4822           0  2018-11-16  https://github.com/NicoleZZC 2018-11-16\n",
       "4823           0  2018-11-17  https://github.com/NicoleZZC 2018-11-17\n",
       "4824           0  2018-11-18  https://github.com/NicoleZZC 2018-11-18\n",
       "4825           0  2018-11-19  https://github.com/NicoleZZC 2018-11-19\n",
       "4826           3  2018-11-20  https://github.com/NicoleZZC 2018-11-20\n",
       "4827           0  2018-11-21  https://github.com/NicoleZZC 2018-11-21\n",
       "4828           0  2018-11-22  https://github.com/NicoleZZC 2018-11-22\n",
       "4829           0  2018-11-23  https://github.com/NicoleZZC 2018-11-23\n",
       "\n",
       "[4830 rows x 4 columns]"
      ]
     },
     "execution_count": 58,
     "metadata": {},
     "output_type": "execute_result"
    }
   ],
   "source": [
    "df"
   ]
  },
  {
   "cell_type": "markdown",
   "metadata": {},
   "source": [
    "## Time series by class"
   ]
  },
  {
   "cell_type": "code",
   "execution_count": 41,
   "metadata": {},
   "outputs": [],
   "source": [
    "df_students = pd.read_csv('namelist.csv')"
   ]
  },
  {
   "cell_type": "code",
   "execution_count": 42,
   "metadata": {},
   "outputs": [
    {
     "data": {
      "text/html": [
       "<div>\n",
       "<style scoped>\n",
       "    .dataframe tbody tr th:only-of-type {\n",
       "        vertical-align: middle;\n",
       "    }\n",
       "\n",
       "    .dataframe tbody tr th {\n",
       "        vertical-align: top;\n",
       "    }\n",
       "\n",
       "    .dataframe thead th {\n",
       "        text-align: right;\n",
       "    }\n",
       "</style>\n",
       "<table border=\"1\" class=\"dataframe\">\n",
       "  <thead>\n",
       "    <tr style=\"text-align: right;\">\n",
       "      <th></th>\n",
       "      <th>Course_Code</th>\n",
       "      <th>Student_Name</th>\n",
       "      <th>github_link</th>\n",
       "    </tr>\n",
       "  </thead>\n",
       "  <tbody>\n",
       "    <tr>\n",
       "      <th>0</th>\n",
       "      <td>COMM7780</td>\n",
       "      <td>CAI Xuejiao</td>\n",
       "      <td>https://github.com/PepperCai</td>\n",
       "    </tr>\n",
       "    <tr>\n",
       "      <th>1</th>\n",
       "      <td>COMM7780</td>\n",
       "      <td>CHEN Mengjie</td>\n",
       "      <td>https://github.com/DidoChan</td>\n",
       "    </tr>\n",
       "    <tr>\n",
       "      <th>2</th>\n",
       "      <td>COMM7780</td>\n",
       "      <td>CHEN Ye</td>\n",
       "      <td>https://github.com/Shinonomee</td>\n",
       "    </tr>\n",
       "    <tr>\n",
       "      <th>3</th>\n",
       "      <td>COMM7780</td>\n",
       "      <td>DU Jiawei</td>\n",
       "      <td>https://github.com/jasmine-dudu</td>\n",
       "    </tr>\n",
       "    <tr>\n",
       "      <th>4</th>\n",
       "      <td>COMM7780</td>\n",
       "      <td>FENG Yujin</td>\n",
       "      <td>https://github.com/Catmint1215</td>\n",
       "    </tr>\n",
       "  </tbody>\n",
       "</table>\n",
       "</div>"
      ],
      "text/plain": [
       "  Course_Code  Student_Name                      github_link\n",
       "0    COMM7780   CAI Xuejiao     https://github.com/PepperCai\n",
       "1    COMM7780  CHEN Mengjie      https://github.com/DidoChan\n",
       "2    COMM7780       CHEN Ye    https://github.com/Shinonomee\n",
       "3    COMM7780     DU Jiawei  https://github.com/jasmine-dudu\n",
       "4    COMM7780    FENG Yujin   https://github.com/Catmint1215"
      ]
     },
     "execution_count": 42,
     "metadata": {},
     "output_type": "execute_result"
    }
   ],
   "source": [
    "df_students.head()"
   ]
  },
  {
   "cell_type": "code",
   "execution_count": 43,
   "metadata": {},
   "outputs": [],
   "source": [
    "df_merged = df.merge(df_students, left_on='url', right_on='github_link')"
   ]
  },
  {
   "cell_type": "code",
   "execution_count": 44,
   "metadata": {},
   "outputs": [
    {
     "data": {
      "text/html": [
       "<div>\n",
       "<style scoped>\n",
       "    .dataframe tbody tr th:only-of-type {\n",
       "        vertical-align: middle;\n",
       "    }\n",
       "\n",
       "    .dataframe tbody tr th {\n",
       "        vertical-align: top;\n",
       "    }\n",
       "\n",
       "    .dataframe thead th {\n",
       "        text-align: right;\n",
       "    }\n",
       "</style>\n",
       "<table border=\"1\" class=\"dataframe\">\n",
       "  <thead>\n",
       "    <tr style=\"text-align: right;\">\n",
       "      <th></th>\n",
       "      <th>data-count</th>\n",
       "      <th>data-date</th>\n",
       "      <th>url</th>\n",
       "      <th>datetime</th>\n",
       "      <th>Course_Code</th>\n",
       "      <th>Student_Name</th>\n",
       "      <th>github_link</th>\n",
       "    </tr>\n",
       "  </thead>\n",
       "  <tbody>\n",
       "    <tr>\n",
       "      <th>0</th>\n",
       "      <td>0</td>\n",
       "      <td>2018-08-01</td>\n",
       "      <td>https://github.com/PepperCai</td>\n",
       "      <td>2018-08-01</td>\n",
       "      <td>COMM7780</td>\n",
       "      <td>CAI Xuejiao</td>\n",
       "      <td>https://github.com/PepperCai</td>\n",
       "    </tr>\n",
       "    <tr>\n",
       "      <th>1</th>\n",
       "      <td>0</td>\n",
       "      <td>2018-08-02</td>\n",
       "      <td>https://github.com/PepperCai</td>\n",
       "      <td>2018-08-02</td>\n",
       "      <td>COMM7780</td>\n",
       "      <td>CAI Xuejiao</td>\n",
       "      <td>https://github.com/PepperCai</td>\n",
       "    </tr>\n",
       "    <tr>\n",
       "      <th>2</th>\n",
       "      <td>0</td>\n",
       "      <td>2018-08-03</td>\n",
       "      <td>https://github.com/PepperCai</td>\n",
       "      <td>2018-08-03</td>\n",
       "      <td>COMM7780</td>\n",
       "      <td>CAI Xuejiao</td>\n",
       "      <td>https://github.com/PepperCai</td>\n",
       "    </tr>\n",
       "    <tr>\n",
       "      <th>3</th>\n",
       "      <td>0</td>\n",
       "      <td>2018-08-04</td>\n",
       "      <td>https://github.com/PepperCai</td>\n",
       "      <td>2018-08-04</td>\n",
       "      <td>COMM7780</td>\n",
       "      <td>CAI Xuejiao</td>\n",
       "      <td>https://github.com/PepperCai</td>\n",
       "    </tr>\n",
       "    <tr>\n",
       "      <th>4</th>\n",
       "      <td>0</td>\n",
       "      <td>2018-08-05</td>\n",
       "      <td>https://github.com/PepperCai</td>\n",
       "      <td>2018-08-05</td>\n",
       "      <td>COMM7780</td>\n",
       "      <td>CAI Xuejiao</td>\n",
       "      <td>https://github.com/PepperCai</td>\n",
       "    </tr>\n",
       "  </tbody>\n",
       "</table>\n",
       "</div>"
      ],
      "text/plain": [
       "   data-count   data-date                           url   datetime  \\\n",
       "0           0  2018-08-01  https://github.com/PepperCai 2018-08-01   \n",
       "1           0  2018-08-02  https://github.com/PepperCai 2018-08-02   \n",
       "2           0  2018-08-03  https://github.com/PepperCai 2018-08-03   \n",
       "3           0  2018-08-04  https://github.com/PepperCai 2018-08-04   \n",
       "4           0  2018-08-05  https://github.com/PepperCai 2018-08-05   \n",
       "\n",
       "  Course_Code Student_Name                   github_link  \n",
       "0    COMM7780  CAI Xuejiao  https://github.com/PepperCai  \n",
       "1    COMM7780  CAI Xuejiao  https://github.com/PepperCai  \n",
       "2    COMM7780  CAI Xuejiao  https://github.com/PepperCai  \n",
       "3    COMM7780  CAI Xuejiao  https://github.com/PepperCai  \n",
       "4    COMM7780  CAI Xuejiao  https://github.com/PepperCai  "
      ]
     },
     "execution_count": 44,
     "metadata": {},
     "output_type": "execute_result"
    }
   ],
   "source": [
    "df_merged.head()"
   ]
  },
  {
   "cell_type": "markdown",
   "metadata": {},
   "source": [
    "### pivot table"
   ]
  },
  {
   "cell_type": "code",
   "execution_count": 45,
   "metadata": {},
   "outputs": [
    {
     "data": {
      "text/plain": [
       "<matplotlib.axes._subplots.AxesSubplot at 0x11da770b8>"
      ]
     },
     "execution_count": 45,
     "metadata": {},
     "output_type": "execute_result"
    },
    {
     "data": {
      "image/png": "[encoded data removed]",
      "text/plain": [
       "<Figure size 432x288 with 1 Axes>"
      ]
     },
     "metadata": {
      "needs_background": "light"
     },
     "output_type": "display_data"
    }
   ],
   "source": [
    "pd.pivot_table(\n",
    "    df_merged, index='datetime', columns=['Course_Code'], values=['data-count'], aggfunc='sum'\n",
    ").plot()"
   ]
  },
  {
   "cell_type": "code",
   "execution_count": 46,
   "metadata": {},
   "outputs": [
    {
     "data": {
      "text/plain": [
       "<matplotlib.axes._subplots.AxesSubplot at 0x11e1490f0>"
      ]
     },
     "execution_count": 46,
     "metadata": {},
     "output_type": "execute_result"
    },
    {
     "data": {
      "image/png": "[encoded data removed]",
      "text/plain": [
       "<Figure size 432x288 with 1 Axes>"
      ]
     },
     "metadata": {
      "needs_background": "light"
     },
     "output_type": "display_data"
    }
   ],
   "source": [
    "pd.pivot_table(\n",
    "    df_merged, index='datetime', columns=['Course_Code'], values=['data-count'], aggfunc='sum'\n",
    ").resample('1w').aggregate('sum').plot()"
   ]
  },
  {
   "cell_type": "code",
   "execution_count": 47,
   "metadata": {},
   "outputs": [
    {
     "data": {
      "text/html": [
       "<div>\n",
       "<style scoped>\n",
       "    .dataframe tbody tr th:only-of-type {\n",
       "        vertical-align: middle;\n",
       "    }\n",
       "\n",
       "    .dataframe tbody tr th {\n",
       "        vertical-align: top;\n",
       "    }\n",
       "\n",
       "    .dataframe thead tr th {\n",
       "        text-align: left;\n",
       "    }\n",
       "\n",
       "    .dataframe thead tr:last-of-type th {\n",
       "        text-align: right;\n",
       "    }\n",
       "</style>\n",
       "<table border=\"1\" class=\"dataframe\">\n",
       "  <thead>\n",
       "    <tr>\n",
       "      <th></th>\n",
       "      <th colspan=\"2\" halign=\"left\">data-count</th>\n",
       "    </tr>\n",
       "    <tr>\n",
       "      <th>Course_Code</th>\n",
       "      <th>COMM7780</th>\n",
       "      <th>JOUR7280</th>\n",
       "    </tr>\n",
       "    <tr>\n",
       "      <th>datetime</th>\n",
       "      <th></th>\n",
       "      <th></th>\n",
       "    </tr>\n",
       "  </thead>\n",
       "  <tbody>\n",
       "    <tr>\n",
       "      <th>2018-08-05</th>\n",
       "      <td>0</td>\n",
       "      <td>9</td>\n",
       "    </tr>\n",
       "    <tr>\n",
       "      <th>2018-08-19</th>\n",
       "      <td>24</td>\n",
       "      <td>9</td>\n",
       "    </tr>\n",
       "    <tr>\n",
       "      <th>2018-09-02</th>\n",
       "      <td>172</td>\n",
       "      <td>100</td>\n",
       "    </tr>\n",
       "    <tr>\n",
       "      <th>2018-09-16</th>\n",
       "      <td>93</td>\n",
       "      <td>53</td>\n",
       "    </tr>\n",
       "    <tr>\n",
       "      <th>2018-09-30</th>\n",
       "      <td>40</td>\n",
       "      <td>70</td>\n",
       "    </tr>\n",
       "    <tr>\n",
       "      <th>2018-10-14</th>\n",
       "      <td>128</td>\n",
       "      <td>53</td>\n",
       "    </tr>\n",
       "    <tr>\n",
       "      <th>2018-10-28</th>\n",
       "      <td>162</td>\n",
       "      <td>134</td>\n",
       "    </tr>\n",
       "    <tr>\n",
       "      <th>2018-11-11</th>\n",
       "      <td>239</td>\n",
       "      <td>156</td>\n",
       "    </tr>\n",
       "    <tr>\n",
       "      <th>2018-11-25</th>\n",
       "      <td>185</td>\n",
       "      <td>85</td>\n",
       "    </tr>\n",
       "  </tbody>\n",
       "</table>\n",
       "</div>"
      ],
      "text/plain": [
       "            data-count         \n",
       "Course_Code   COMM7780 JOUR7280\n",
       "datetime                       \n",
       "2018-08-05           0        9\n",
       "2018-08-19          24        9\n",
       "2018-09-02         172      100\n",
       "2018-09-16          93       53\n",
       "2018-09-30          40       70\n",
       "2018-10-14         128       53\n",
       "2018-10-28         162      134\n",
       "2018-11-11         239      156\n",
       "2018-11-25         185       85"
      ]
     },
     "execution_count": 47,
     "metadata": {},
     "output_type": "execute_result"
    }
   ],
   "source": [
    "pd.pivot_table(\n",
    "    df_merged, index='datetime', columns=['Course_Code'], values=['data-count'], aggfunc='sum'\n",
    ").resample('2w').aggregate('sum')#.plot()"
   ]
  },
  {
   "cell_type": "markdown",
   "metadata": {},
   "source": [
    "## Number of contributions by person"
   ]
  },
  {
   "cell_type": "code",
   "execution_count": 48,
   "metadata": {},
   "outputs": [
    {
     "data": {
      "text/html": [
       "<div>\n",
       "<style scoped>\n",
       "    .dataframe tbody tr th:only-of-type {\n",
       "        vertical-align: middle;\n",
       "    }\n",
       "\n",
       "    .dataframe tbody tr th {\n",
       "        vertical-align: top;\n",
       "    }\n",
       "\n",
       "    .dataframe thead th {\n",
       "        text-align: right;\n",
       "    }\n",
       "</style>\n",
       "<table border=\"1\" class=\"dataframe\">\n",
       "  <thead>\n",
       "    <tr style=\"text-align: right;\">\n",
       "      <th></th>\n",
       "      <th></th>\n",
       "      <th>data-count</th>\n",
       "    </tr>\n",
       "    <tr>\n",
       "      <th>Student_Name</th>\n",
       "      <th>Course_Code</th>\n",
       "      <th></th>\n",
       "    </tr>\n",
       "  </thead>\n",
       "  <tbody>\n",
       "    <tr>\n",
       "      <th>GAO Chao</th>\n",
       "      <th>COMM7780</th>\n",
       "      <td>211</td>\n",
       "    </tr>\n",
       "    <tr>\n",
       "      <th>LI Chenxi</th>\n",
       "      <th>COMM7780</th>\n",
       "      <td>149</td>\n",
       "    </tr>\n",
       "    <tr>\n",
       "      <th>WANG Ziwei</th>\n",
       "      <th>JOUR7280</th>\n",
       "      <td>107</td>\n",
       "    </tr>\n",
       "    <tr>\n",
       "      <th>YAO Lan</th>\n",
       "      <th>JOUR7280</th>\n",
       "      <td>90</td>\n",
       "    </tr>\n",
       "    <tr>\n",
       "      <th>LIN Yitong</th>\n",
       "      <th>COMM7780</th>\n",
       "      <td>73</td>\n",
       "    </tr>\n",
       "    <tr>\n",
       "      <th>ZHANG Ning</th>\n",
       "      <th>COMM7780</th>\n",
       "      <td>67</td>\n",
       "    </tr>\n",
       "    <tr>\n",
       "      <th>LIU Cong</th>\n",
       "      <th>COMM7780</th>\n",
       "      <td>67</td>\n",
       "    </tr>\n",
       "    <tr>\n",
       "      <th>ZHANG Jingwei</th>\n",
       "      <th>JOUR7280</th>\n",
       "      <td>59</td>\n",
       "    </tr>\n",
       "    <tr>\n",
       "      <th>ZENG Sining</th>\n",
       "      <th>COMM7780</th>\n",
       "      <td>57</td>\n",
       "    </tr>\n",
       "    <tr>\n",
       "      <th>XIE Jieyi</th>\n",
       "      <th>COMM7780</th>\n",
       "      <td>48</td>\n",
       "    </tr>\n",
       "    <tr>\n",
       "      <th>XU Kaiwen</th>\n",
       "      <th>JOUR7280</th>\n",
       "      <td>45</td>\n",
       "    </tr>\n",
       "    <tr>\n",
       "      <th>HUANG Xin</th>\n",
       "      <th>COMM7780</th>\n",
       "      <td>45</td>\n",
       "    </tr>\n",
       "    <tr>\n",
       "      <th>XU Wen</th>\n",
       "      <th>JOUR7280</th>\n",
       "      <td>43</td>\n",
       "    </tr>\n",
       "    <tr>\n",
       "      <th>XU Haotian</th>\n",
       "      <th>COMM7780</th>\n",
       "      <td>42</td>\n",
       "    </tr>\n",
       "    <tr>\n",
       "      <th>ZHANG Shiyu</th>\n",
       "      <th>COMM7780</th>\n",
       "      <td>42</td>\n",
       "    </tr>\n",
       "    <tr>\n",
       "      <th>JIANG Nixuan</th>\n",
       "      <th>JOUR7280</th>\n",
       "      <td>41</td>\n",
       "    </tr>\n",
       "    <tr>\n",
       "      <th>YU Qing</th>\n",
       "      <th>JOUR7280</th>\n",
       "      <td>38</td>\n",
       "    </tr>\n",
       "    <tr>\n",
       "      <th>ZHANG Zichun</th>\n",
       "      <th>JOUR7280</th>\n",
       "      <td>37</td>\n",
       "    </tr>\n",
       "    <tr>\n",
       "      <th>ZENG Huashan</th>\n",
       "      <th>COMM7780</th>\n",
       "      <td>35</td>\n",
       "    </tr>\n",
       "    <tr>\n",
       "      <th>LUO Yi</th>\n",
       "      <th>COMM7780</th>\n",
       "      <td>32</td>\n",
       "    </tr>\n",
       "    <tr>\n",
       "      <th>ZHAI Menghan</th>\n",
       "      <th>JOUR7280</th>\n",
       "      <td>30</td>\n",
       "    </tr>\n",
       "    <tr>\n",
       "      <th>HE Wenshu</th>\n",
       "      <th>JOUR7280</th>\n",
       "      <td>27</td>\n",
       "    </tr>\n",
       "    <tr>\n",
       "      <th>HUANG Yangming</th>\n",
       "      <th>COMM7780</th>\n",
       "      <td>26</td>\n",
       "    </tr>\n",
       "    <tr>\n",
       "      <th>LI Yijie</th>\n",
       "      <th>JOUR7280</th>\n",
       "      <td>24</td>\n",
       "    </tr>\n",
       "    <tr>\n",
       "      <th>CHEN Ye</th>\n",
       "      <th>COMM7780</th>\n",
       "      <td>23</td>\n",
       "    </tr>\n",
       "    <tr>\n",
       "      <th>YAO Nuan</th>\n",
       "      <th>JOUR7280</th>\n",
       "      <td>22</td>\n",
       "    </tr>\n",
       "    <tr>\n",
       "      <th>ZHANG Huimin</th>\n",
       "      <th>JOUR7280</th>\n",
       "      <td>21</td>\n",
       "    </tr>\n",
       "    <tr>\n",
       "      <th>HUANG Ting</th>\n",
       "      <th>COMM7780</th>\n",
       "      <td>19</td>\n",
       "    </tr>\n",
       "    <tr>\n",
       "      <th>DU Jiawei</th>\n",
       "      <th>COMM7780</th>\n",
       "      <td>19</td>\n",
       "    </tr>\n",
       "    <tr>\n",
       "      <th>FENG Yujin</th>\n",
       "      <th>COMM7780</th>\n",
       "      <td>18</td>\n",
       "    </tr>\n",
       "    <tr>\n",
       "      <th>SHI Yuning</th>\n",
       "      <th>JOUR7280</th>\n",
       "      <td>18</td>\n",
       "    </tr>\n",
       "    <tr>\n",
       "      <th>CHEN Mengjie</th>\n",
       "      <th>COMM7780</th>\n",
       "      <td>17</td>\n",
       "    </tr>\n",
       "    <tr>\n",
       "      <th>CAI Xuejiao</th>\n",
       "      <th>COMM7780</th>\n",
       "      <td>17</td>\n",
       "    </tr>\n",
       "    <tr>\n",
       "      <th>YANG Lin</th>\n",
       "      <th>JOUR7280</th>\n",
       "      <td>15</td>\n",
       "    </tr>\n",
       "    <tr>\n",
       "      <th>LIN Huiqing</th>\n",
       "      <th>COMM7780</th>\n",
       "      <td>15</td>\n",
       "    </tr>\n",
       "    <tr>\n",
       "      <th>ZHANG Bohan</th>\n",
       "      <th>JOUR7280</th>\n",
       "      <td>13</td>\n",
       "    </tr>\n",
       "    <tr>\n",
       "      <th>JIANG Weiqi</th>\n",
       "      <th>JOUR7280</th>\n",
       "      <td>13</td>\n",
       "    </tr>\n",
       "    <tr>\n",
       "      <th>LI Mengyu</th>\n",
       "      <th>JOUR7280</th>\n",
       "      <td>13</td>\n",
       "    </tr>\n",
       "    <tr>\n",
       "      <th>LI Shengnan</th>\n",
       "      <th>JOUR7280</th>\n",
       "      <td>13</td>\n",
       "    </tr>\n",
       "    <tr>\n",
       "      <th>GU Minyi</th>\n",
       "      <th>COMM7780</th>\n",
       "      <td>11</td>\n",
       "    </tr>\n",
       "    <tr>\n",
       "      <th>ZENG Xingjie</th>\n",
       "      <th>COMM7780</th>\n",
       "      <td>10</td>\n",
       "    </tr>\n",
       "  </tbody>\n",
       "</table>\n",
       "</div>"
      ],
      "text/plain": [
       "                            data-count\n",
       "Student_Name   Course_Code            \n",
       "GAO Chao       COMM7780            211\n",
       "LI Chenxi      COMM7780            149\n",
       "WANG Ziwei     JOUR7280            107\n",
       "YAO Lan        JOUR7280             90\n",
       "LIN Yitong     COMM7780             73\n",
       "ZHANG Ning     COMM7780             67\n",
       "LIU Cong       COMM7780             67\n",
       "ZHANG Jingwei  JOUR7280             59\n",
       "ZENG Sining    COMM7780             57\n",
       "XIE Jieyi      COMM7780             48\n",
       "XU Kaiwen      JOUR7280             45\n",
       "HUANG Xin      COMM7780             45\n",
       "XU Wen         JOUR7280             43\n",
       "XU Haotian     COMM7780             42\n",
       "ZHANG Shiyu    COMM7780             42\n",
       "JIANG Nixuan   JOUR7280             41\n",
       "YU Qing        JOUR7280             38\n",
       "ZHANG Zichun   JOUR7280             37\n",
       "ZENG Huashan   COMM7780             35\n",
       "LUO Yi         COMM7780             32\n",
       "ZHAI Menghan   JOUR7280             30\n",
       "HE Wenshu      JOUR7280             27\n",
       "HUANG Yangming COMM7780             26\n",
       "LI Yijie       JOUR7280             24\n",
       "CHEN Ye        COMM7780             23\n",
       "YAO Nuan       JOUR7280             22\n",
       "ZHANG Huimin   JOUR7280             21\n",
       "HUANG Ting     COMM7780             19\n",
       "DU Jiawei      COMM7780             19\n",
       "FENG Yujin     COMM7780             18\n",
       "SHI Yuning     JOUR7280             18\n",
       "CHEN Mengjie   COMM7780             17\n",
       "CAI Xuejiao    COMM7780             17\n",
       "YANG Lin       JOUR7280             15\n",
       "LIN Huiqing    COMM7780             15\n",
       "ZHANG Bohan    JOUR7280             13\n",
       "JIANG Weiqi    JOUR7280             13\n",
       "LI Mengyu      JOUR7280             13\n",
       "LI Shengnan    JOUR7280             13\n",
       "GU Minyi       COMM7780             11\n",
       "ZENG Xingjie   COMM7780             10"
      ]
     },
     "execution_count": 48,
     "metadata": {},
     "output_type": "execute_result"
    }
   ],
   "source": [
    "pd.pivot_table(\n",
    "    df_merged, index=['Student_Name', 'Course_Code'], values=['data-count'], aggfunc='sum'\n",
    ").sort_values(by='data-count', ascending=False)"
   ]
  },
  {
   "cell_type": "markdown",
   "metadata": {},
   "source": [
    "## Number of contributions in past week?"
   ]
  },
  {
   "cell_type": "code",
   "execution_count": 49,
   "metadata": {},
   "outputs": [
    {
     "data": {
      "text/plain": [
       "4830"
      ]
     },
     "execution_count": 49,
     "metadata": {},
     "output_type": "execute_result"
    }
   ],
   "source": [
    "len(df_merged)"
   ]
  },
  {
   "cell_type": "code",
   "execution_count": 50,
   "metadata": {},
   "outputs": [
    {
     "data": {
      "text/plain": [
       "'2018-11-16'"
      ]
     },
     "execution_count": 50,
     "metadata": {},
     "output_type": "execute_result"
    }
   ],
   "source": [
    "'2018-11-23'\n",
    "'2018-11-16'"
   ]
  },
  {
   "cell_type": "code",
   "execution_count": 51,
   "metadata": {},
   "outputs": [
    {
     "data": {
      "text/plain": [
       "294"
      ]
     },
     "execution_count": 51,
     "metadata": {},
     "output_type": "execute_result"
    }
   ],
   "source": [
    "len(df_merged[\n",
    "    df_merged['data-date'] > '2018-11-16'\n",
    "])"
   ]
  },
  {
   "cell_type": "markdown",
   "metadata": {},
   "source": [
    "Why can wedo the above string comparison in order to compare two datetime objects?\n",
    "\n",
    "Because we have a canonical format here\n",
    "\n",
    "```\n",
    "yyyymmdd\n",
    "2018-11-05\n",
    "2018-11-12\n",
    "```\n",
    "\n",
    "If not using canonical format, the comparison will yield different result\n",
    "\n",
    "```\n",
    "2018-11-5\n",
    "2018-11-12\n",
    "```"
   ]
  },
  {
   "cell_type": "code",
   "execution_count": 52,
   "metadata": {},
   "outputs": [
    {
     "data": {
      "text/html": [
       "<div>\n",
       "<style scoped>\n",
       "    .dataframe tbody tr th:only-of-type {\n",
       "        vertical-align: middle;\n",
       "    }\n",
       "\n",
       "    .dataframe tbody tr th {\n",
       "        vertical-align: top;\n",
       "    }\n",
       "\n",
       "    .dataframe thead th {\n",
       "        text-align: right;\n",
       "    }\n",
       "</style>\n",
       "<table border=\"1\" class=\"dataframe\">\n",
       "  <thead>\n",
       "    <tr style=\"text-align: right;\">\n",
       "      <th></th>\n",
       "      <th></th>\n",
       "      <th>data-count</th>\n",
       "    </tr>\n",
       "    <tr>\n",
       "      <th>Student_Name</th>\n",
       "      <th>Course_Code</th>\n",
       "      <th></th>\n",
       "    </tr>\n",
       "  </thead>\n",
       "  <tbody>\n",
       "    <tr>\n",
       "      <th>GAO Chao</th>\n",
       "      <th>COMM7780</th>\n",
       "      <td>53</td>\n",
       "    </tr>\n",
       "    <tr>\n",
       "      <th>XU Kaiwen</th>\n",
       "      <th>JOUR7280</th>\n",
       "      <td>11</td>\n",
       "    </tr>\n",
       "    <tr>\n",
       "      <th>HUANG Xin</th>\n",
       "      <th>COMM7780</th>\n",
       "      <td>9</td>\n",
       "    </tr>\n",
       "    <tr>\n",
       "      <th>LIU Cong</th>\n",
       "      <th>COMM7780</th>\n",
       "      <td>8</td>\n",
       "    </tr>\n",
       "    <tr>\n",
       "      <th>DU Jiawei</th>\n",
       "      <th>COMM7780</th>\n",
       "      <td>7</td>\n",
       "    </tr>\n",
       "    <tr>\n",
       "      <th>WANG Ziwei</th>\n",
       "      <th>JOUR7280</th>\n",
       "      <td>7</td>\n",
       "    </tr>\n",
       "    <tr>\n",
       "      <th>SHI Yuning</th>\n",
       "      <th>JOUR7280</th>\n",
       "      <td>7</td>\n",
       "    </tr>\n",
       "    <tr>\n",
       "      <th>ZHANG Ning</th>\n",
       "      <th>COMM7780</th>\n",
       "      <td>6</td>\n",
       "    </tr>\n",
       "    <tr>\n",
       "      <th>YAO Nuan</th>\n",
       "      <th>JOUR7280</th>\n",
       "      <td>6</td>\n",
       "    </tr>\n",
       "    <tr>\n",
       "      <th>LI Mengyu</th>\n",
       "      <th>JOUR7280</th>\n",
       "      <td>5</td>\n",
       "    </tr>\n",
       "    <tr>\n",
       "      <th>CHEN Ye</th>\n",
       "      <th>COMM7780</th>\n",
       "      <td>5</td>\n",
       "    </tr>\n",
       "    <tr>\n",
       "      <th>ZENG Huashan</th>\n",
       "      <th>COMM7780</th>\n",
       "      <td>5</td>\n",
       "    </tr>\n",
       "    <tr>\n",
       "      <th>ZHANG Huimin</th>\n",
       "      <th>JOUR7280</th>\n",
       "      <td>5</td>\n",
       "    </tr>\n",
       "    <tr>\n",
       "      <th>LIN Yitong</th>\n",
       "      <th>COMM7780</th>\n",
       "      <td>5</td>\n",
       "    </tr>\n",
       "    <tr>\n",
       "      <th>ZHAI Menghan</th>\n",
       "      <th>JOUR7280</th>\n",
       "      <td>4</td>\n",
       "    </tr>\n",
       "    <tr>\n",
       "      <th>YAO Lan</th>\n",
       "      <th>JOUR7280</th>\n",
       "      <td>4</td>\n",
       "    </tr>\n",
       "    <tr>\n",
       "      <th>LI Chenxi</th>\n",
       "      <th>COMM7780</th>\n",
       "      <td>3</td>\n",
       "    </tr>\n",
       "    <tr>\n",
       "      <th>XU Haotian</th>\n",
       "      <th>COMM7780</th>\n",
       "      <td>3</td>\n",
       "    </tr>\n",
       "    <tr>\n",
       "      <th>ZHANG Zichun</th>\n",
       "      <th>JOUR7280</th>\n",
       "      <td>3</td>\n",
       "    </tr>\n",
       "    <tr>\n",
       "      <th>LI Yijie</th>\n",
       "      <th>JOUR7280</th>\n",
       "      <td>2</td>\n",
       "    </tr>\n",
       "    <tr>\n",
       "      <th>LI Shengnan</th>\n",
       "      <th>JOUR7280</th>\n",
       "      <td>2</td>\n",
       "    </tr>\n",
       "    <tr>\n",
       "      <th>ZENG Xingjie</th>\n",
       "      <th>COMM7780</th>\n",
       "      <td>2</td>\n",
       "    </tr>\n",
       "    <tr>\n",
       "      <th>JIANG Nixuan</th>\n",
       "      <th>JOUR7280</th>\n",
       "      <td>2</td>\n",
       "    </tr>\n",
       "    <tr>\n",
       "      <th>ZHANG Jingwei</th>\n",
       "      <th>JOUR7280</th>\n",
       "      <td>2</td>\n",
       "    </tr>\n",
       "    <tr>\n",
       "      <th>HUANG Yangming</th>\n",
       "      <th>COMM7780</th>\n",
       "      <td>1</td>\n",
       "    </tr>\n",
       "    <tr>\n",
       "      <th>ZENG Sining</th>\n",
       "      <th>COMM7780</th>\n",
       "      <td>1</td>\n",
       "    </tr>\n",
       "    <tr>\n",
       "      <th>ZHANG Bohan</th>\n",
       "      <th>JOUR7280</th>\n",
       "      <td>0</td>\n",
       "    </tr>\n",
       "    <tr>\n",
       "      <th>ZHANG Shiyu</th>\n",
       "      <th>COMM7780</th>\n",
       "      <td>0</td>\n",
       "    </tr>\n",
       "    <tr>\n",
       "      <th>YU Qing</th>\n",
       "      <th>JOUR7280</th>\n",
       "      <td>0</td>\n",
       "    </tr>\n",
       "    <tr>\n",
       "      <th>CAI Xuejiao</th>\n",
       "      <th>COMM7780</th>\n",
       "      <td>0</td>\n",
       "    </tr>\n",
       "    <tr>\n",
       "      <th>YANG Lin</th>\n",
       "      <th>JOUR7280</th>\n",
       "      <td>0</td>\n",
       "    </tr>\n",
       "    <tr>\n",
       "      <th>XU Wen</th>\n",
       "      <th>JOUR7280</th>\n",
       "      <td>0</td>\n",
       "    </tr>\n",
       "    <tr>\n",
       "      <th>XIE Jieyi</th>\n",
       "      <th>COMM7780</th>\n",
       "      <td>0</td>\n",
       "    </tr>\n",
       "    <tr>\n",
       "      <th>CHEN Mengjie</th>\n",
       "      <th>COMM7780</th>\n",
       "      <td>0</td>\n",
       "    </tr>\n",
       "    <tr>\n",
       "      <th>LIN Huiqing</th>\n",
       "      <th>COMM7780</th>\n",
       "      <td>0</td>\n",
       "    </tr>\n",
       "    <tr>\n",
       "      <th>JIANG Weiqi</th>\n",
       "      <th>JOUR7280</th>\n",
       "      <td>0</td>\n",
       "    </tr>\n",
       "    <tr>\n",
       "      <th>HUANG Ting</th>\n",
       "      <th>COMM7780</th>\n",
       "      <td>0</td>\n",
       "    </tr>\n",
       "    <tr>\n",
       "      <th>HE Wenshu</th>\n",
       "      <th>JOUR7280</th>\n",
       "      <td>0</td>\n",
       "    </tr>\n",
       "    <tr>\n",
       "      <th>GU Minyi</th>\n",
       "      <th>COMM7780</th>\n",
       "      <td>0</td>\n",
       "    </tr>\n",
       "    <tr>\n",
       "      <th>FENG Yujin</th>\n",
       "      <th>COMM7780</th>\n",
       "      <td>0</td>\n",
       "    </tr>\n",
       "    <tr>\n",
       "      <th>LUO Yi</th>\n",
       "      <th>COMM7780</th>\n",
       "      <td>0</td>\n",
       "    </tr>\n",
       "  </tbody>\n",
       "</table>\n",
       "</div>"
      ],
      "text/plain": [
       "                            data-count\n",
       "Student_Name   Course_Code            \n",
       "GAO Chao       COMM7780             53\n",
       "XU Kaiwen      JOUR7280             11\n",
       "HUANG Xin      COMM7780              9\n",
       "LIU Cong       COMM7780              8\n",
       "DU Jiawei      COMM7780              7\n",
       "WANG Ziwei     JOUR7280              7\n",
       "SHI Yuning     JOUR7280              7\n",
       "ZHANG Ning     COMM7780              6\n",
       "YAO Nuan       JOUR7280              6\n",
       "LI Mengyu      JOUR7280              5\n",
       "CHEN Ye        COMM7780              5\n",
       "ZENG Huashan   COMM7780              5\n",
       "ZHANG Huimin   JOUR7280              5\n",
       "LIN Yitong     COMM7780              5\n",
       "ZHAI Menghan   JOUR7280              4\n",
       "YAO Lan        JOUR7280              4\n",
       "LI Chenxi      COMM7780              3\n",
       "XU Haotian     COMM7780              3\n",
       "ZHANG Zichun   JOUR7280              3\n",
       "LI Yijie       JOUR7280              2\n",
       "LI Shengnan    JOUR7280              2\n",
       "ZENG Xingjie   COMM7780              2\n",
       "JIANG Nixuan   JOUR7280              2\n",
       "ZHANG Jingwei  JOUR7280              2\n",
       "HUANG Yangming COMM7780              1\n",
       "ZENG Sining    COMM7780              1\n",
       "ZHANG Bohan    JOUR7280              0\n",
       "ZHANG Shiyu    COMM7780              0\n",
       "YU Qing        JOUR7280              0\n",
       "CAI Xuejiao    COMM7780              0\n",
       "YANG Lin       JOUR7280              0\n",
       "XU Wen         JOUR7280              0\n",
       "XIE Jieyi      COMM7780              0\n",
       "CHEN Mengjie   COMM7780              0\n",
       "LIN Huiqing    COMM7780              0\n",
       "JIANG Weiqi    JOUR7280              0\n",
       "HUANG Ting     COMM7780              0\n",
       "HE Wenshu      JOUR7280              0\n",
       "GU Minyi       COMM7780              0\n",
       "FENG Yujin     COMM7780              0\n",
       "LUO Yi         COMM7780              0"
      ]
     },
     "execution_count": 52,
     "metadata": {},
     "output_type": "execute_result"
    }
   ],
   "source": [
    "# step 1:\n",
    "# df_merged <-- contributions in past week\n",
    "\n",
    "df_past_week = df_merged[\n",
    "    df_merged['data-date'] > '2018-11-16'\n",
    "]\n",
    "\n",
    "# step 2:\n",
    "pd.pivot_table(\n",
    "    df_past_week, index=['Student_Name', 'Course_Code'], values=['data-count'], aggfunc='sum'\n",
    ").sort_values(by='data-count', ascending=False)"
   ]
  },
  {
   "cell_type": "markdown",
   "metadata": {},
   "source": [
    "### Compare time in a more rigorous way"
   ]
  },
  {
   "cell_type": "code",
   "execution_count": 53,
   "metadata": {},
   "outputs": [
    {
     "data": {
      "text/plain": [
       "pandas._libs.tslibs.timestamps.Timestamp"
      ]
     },
     "execution_count": 53,
     "metadata": {},
     "output_type": "execute_result"
    }
   ],
   "source": [
    "type(df['datetime'][0])"
   ]
  },
  {
   "cell_type": "code",
   "execution_count": 54,
   "metadata": {},
   "outputs": [
    {
     "data": {
      "text/plain": [
       "str"
      ]
     },
     "execution_count": 54,
     "metadata": {},
     "output_type": "execute_result"
    }
   ],
   "source": [
    "type(df['data-date'][0])"
   ]
  },
  {
   "cell_type": "code",
   "execution_count": 55,
   "metadata": {},
   "outputs": [],
   "source": [
    "a = df['datetime'][0]"
   ]
  },
  {
   "cell_type": "code",
   "execution_count": 56,
   "metadata": {},
   "outputs": [
    {
     "data": {
      "text/plain": [
       "Timestamp('2018-08-01 00:00:00')"
      ]
     },
     "execution_count": 56,
     "metadata": {},
     "output_type": "execute_result"
    }
   ],
   "source": [
    "a"
   ]
  },
  {
   "cell_type": "code",
   "execution_count": 57,
   "metadata": {},
   "outputs": [],
   "source": [
    "import datetime"
   ]
  },
  {
   "cell_type": "code",
   "execution_count": 58,
   "metadata": {},
   "outputs": [],
   "source": [
    "b = datetime.datetime(2018, 8, 2)"
   ]
  },
  {
   "cell_type": "code",
   "execution_count": 59,
   "metadata": {},
   "outputs": [
    {
     "data": {
      "text/plain": [
       "Timestamp('2018-08-01 00:00:00')"
      ]
     },
     "execution_count": 59,
     "metadata": {},
     "output_type": "execute_result"
    }
   ],
   "source": [
    "a"
   ]
  },
  {
   "cell_type": "code",
   "execution_count": 60,
   "metadata": {},
   "outputs": [
    {
     "data": {
      "text/plain": [
       "datetime.datetime(2018, 8, 2, 0, 0)"
      ]
     },
     "execution_count": 60,
     "metadata": {},
     "output_type": "execute_result"
    }
   ],
   "source": [
    "b"
   ]
  },
  {
   "cell_type": "code",
   "execution_count": 61,
   "metadata": {},
   "outputs": [
    {
     "data": {
      "text/plain": [
       "True"
      ]
     },
     "execution_count": 61,
     "metadata": {},
     "output_type": "execute_result"
    }
   ],
   "source": [
    "a < b"
   ]
  },
  {
   "cell_type": "code",
   "execution_count": 62,
   "metadata": {},
   "outputs": [],
   "source": [
    "b = datetime.datetime(2018, 7, 3)"
   ]
  },
  {
   "cell_type": "code",
   "execution_count": 63,
   "metadata": {},
   "outputs": [
    {
     "data": {
      "text/plain": [
       "False"
      ]
     },
     "execution_count": 63,
     "metadata": {},
     "output_type": "execute_result"
    }
   ],
   "source": [
    "a < b"
   ]
  },
  {
   "cell_type": "code",
   "execution_count": 64,
   "metadata": {},
   "outputs": [],
   "source": [
    "a = datetime.datetime(2018, 11, 5, 21)\n",
    "b = datetime.datetime(2018, 11, 5, 22)"
   ]
  },
  {
   "cell_type": "code",
   "execution_count": 65,
   "metadata": {},
   "outputs": [
    {
     "data": {
      "text/plain": [
       "True"
      ]
     },
     "execution_count": 65,
     "metadata": {},
     "output_type": "execute_result"
    }
   ],
   "source": [
    "a < b"
   ]
  }
 ],
 "metadata": {
  "kernelspec": {
   "display_name": "Python 3",
   "language": "python",
   "name": "python3"
  },
  "language_info": {
   "codemirror_mode": {
    "name": "ipython",
    "version": 3
   },
   "file_extension": ".py",
   "mimetype": "text/x-python",
   "name": "python",
   "nbconvert_exporter": "python",
   "pygments_lexer": "ipython3",
   "version": "3.7.0"
  }
 },
 "nbformat": 4,
 "nbformat_minor": 2
}
